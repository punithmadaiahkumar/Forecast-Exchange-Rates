{
 "cells": [
  {
   "cell_type": "markdown",
   "id": "124d215f",
   "metadata": {},
   "source": [
    "# Forecast Exchange Rates"
   ]
  },
  {
   "cell_type": "markdown",
   "id": "c7154d45",
   "metadata": {},
   "source": [
    "## Importing Library"
   ]
  },
  {
   "cell_type": "code",
   "execution_count": 1,
   "id": "74d2199c",
   "metadata": {},
   "outputs": [],
   "source": [
    "#VIZ AND DATA MANIPULATION LIBRARY\n",
    "import pandas as pd\n",
    "import numpy as np\n",
    "import seaborn as sns\n",
    "import matplotlib.pyplot as plt\n",
    "\n",
    "#plotly\n",
    "from plotly import tools\n",
    "import plotly_express as px\n",
    "import plotly.graph_objects as go\n",
    "from plotly.subplots import make_subplots\n",
    "\n",
    "#datetime\n",
    "import datetime as dt\n",
    "\n",
    "#warnings\n",
    "import warnings \n",
    "warnings.filterwarnings('ignore')"
   ]
  },
  {
   "cell_type": "markdown",
   "id": "5d26cd8e",
   "metadata": {},
   "source": [
    "## Loading Data"
   ]
  },
  {
   "cell_type": "code",
   "execution_count": 2,
   "id": "e6c85619",
   "metadata": {},
   "outputs": [
    {
     "data": {
      "text/html": [
       "<div>\n",
       "<style scoped>\n",
       "    .dataframe tbody tr th:only-of-type {\n",
       "        vertical-align: middle;\n",
       "    }\n",
       "\n",
       "    .dataframe tbody tr th {\n",
       "        vertical-align: top;\n",
       "    }\n",
       "\n",
       "    .dataframe thead th {\n",
       "        text-align: right;\n",
       "    }\n",
       "</style>\n",
       "<table border=\"1\" class=\"dataframe\">\n",
       "  <thead>\n",
       "    <tr style=\"text-align: right;\">\n",
       "      <th></th>\n",
       "      <th>observation_date</th>\n",
       "      <th>DEXINUS</th>\n",
       "    </tr>\n",
       "  </thead>\n",
       "  <tbody>\n",
       "    <tr>\n",
       "      <th>0</th>\n",
       "      <td>1973-01-02</td>\n",
       "      <td>8.02</td>\n",
       "    </tr>\n",
       "    <tr>\n",
       "      <th>1</th>\n",
       "      <td>1973-01-03</td>\n",
       "      <td>8.02</td>\n",
       "    </tr>\n",
       "    <tr>\n",
       "      <th>2</th>\n",
       "      <td>1973-01-04</td>\n",
       "      <td>8.00</td>\n",
       "    </tr>\n",
       "    <tr>\n",
       "      <th>3</th>\n",
       "      <td>1973-01-05</td>\n",
       "      <td>8.01</td>\n",
       "    </tr>\n",
       "    <tr>\n",
       "      <th>4</th>\n",
       "      <td>1973-01-08</td>\n",
       "      <td>8.00</td>\n",
       "    </tr>\n",
       "  </tbody>\n",
       "</table>\n",
       "</div>"
      ],
      "text/plain": [
       "  observation_date  DEXINUS\n",
       "0       1973-01-02     8.02\n",
       "1       1973-01-03     8.02\n",
       "2       1973-01-04     8.00\n",
       "3       1973-01-05     8.01\n",
       "4       1973-01-08     8.00"
      ]
     },
     "execution_count": 2,
     "metadata": {},
     "output_type": "execute_result"
    }
   ],
   "source": [
    "inrusd = pd.read_csv('Dataset.csv',parse_dates=[\"observation_date\"])\n",
    "inrusd.head()"
   ]
  },
  {
   "cell_type": "markdown",
   "id": "af440e46",
   "metadata": {},
   "source": [
    "### Copy Data"
   ]
  },
  {
   "cell_type": "code",
   "execution_count": 3,
   "id": "c44cf661",
   "metadata": {},
   "outputs": [
    {
     "data": {
      "text/html": [
       "<div>\n",
       "<style scoped>\n",
       "    .dataframe tbody tr th:only-of-type {\n",
       "        vertical-align: middle;\n",
       "    }\n",
       "\n",
       "    .dataframe tbody tr th {\n",
       "        vertical-align: top;\n",
       "    }\n",
       "\n",
       "    .dataframe thead th {\n",
       "        text-align: right;\n",
       "    }\n",
       "</style>\n",
       "<table border=\"1\" class=\"dataframe\">\n",
       "  <thead>\n",
       "    <tr style=\"text-align: right;\">\n",
       "      <th></th>\n",
       "      <th>observation_date</th>\n",
       "      <th>DEXINUS</th>\n",
       "    </tr>\n",
       "  </thead>\n",
       "  <tbody>\n",
       "    <tr>\n",
       "      <th>0</th>\n",
       "      <td>1973-01-02</td>\n",
       "      <td>8.02</td>\n",
       "    </tr>\n",
       "    <tr>\n",
       "      <th>1</th>\n",
       "      <td>1973-01-03</td>\n",
       "      <td>8.02</td>\n",
       "    </tr>\n",
       "    <tr>\n",
       "      <th>2</th>\n",
       "      <td>1973-01-04</td>\n",
       "      <td>8.00</td>\n",
       "    </tr>\n",
       "    <tr>\n",
       "      <th>3</th>\n",
       "      <td>1973-01-05</td>\n",
       "      <td>8.01</td>\n",
       "    </tr>\n",
       "    <tr>\n",
       "      <th>4</th>\n",
       "      <td>1973-01-08</td>\n",
       "      <td>8.00</td>\n",
       "    </tr>\n",
       "  </tbody>\n",
       "</table>\n",
       "</div>"
      ],
      "text/plain": [
       "  observation_date  DEXINUS\n",
       "0       1973-01-02     8.02\n",
       "1       1973-01-03     8.02\n",
       "2       1973-01-04     8.00\n",
       "3       1973-01-05     8.01\n",
       "4       1973-01-08     8.00"
      ]
     },
     "execution_count": 3,
     "metadata": {},
     "output_type": "execute_result"
    }
   ],
   "source": [
    "#Copy Data\n",
    "df = inrusd.copy()\n",
    "df.head()"
   ]
  },
  {
   "cell_type": "markdown",
   "id": "22c0a3b0",
   "metadata": {},
   "source": [
    "#### Shape"
   ]
  },
  {
   "cell_type": "code",
   "execution_count": 4,
   "id": "5c3b96bb",
   "metadata": {},
   "outputs": [
    {
     "data": {
      "text/plain": [
       "(12649, 2)"
      ]
     },
     "execution_count": 4,
     "metadata": {},
     "output_type": "execute_result"
    }
   ],
   "source": [
    "df.shape"
   ]
  },
  {
   "cell_type": "markdown",
   "id": "3144f897",
   "metadata": {},
   "source": [
    "#### Renaming "
   ]
  },
  {
   "cell_type": "code",
   "execution_count": 5,
   "id": "d6b9a1ae",
   "metadata": {},
   "outputs": [],
   "source": [
    "#renaming the date and rate\n",
    "data = df[['observation_date', 'DEXINUS']]\n",
    "data.columns = ['date', 'rate']"
   ]
  },
  {
   "cell_type": "code",
   "execution_count": 6,
   "id": "7eb777c0",
   "metadata": {},
   "outputs": [
    {
     "data": {
      "text/html": [
       "<div>\n",
       "<style scoped>\n",
       "    .dataframe tbody tr th:only-of-type {\n",
       "        vertical-align: middle;\n",
       "    }\n",
       "\n",
       "    .dataframe tbody tr th {\n",
       "        vertical-align: top;\n",
       "    }\n",
       "\n",
       "    .dataframe thead th {\n",
       "        text-align: right;\n",
       "    }\n",
       "</style>\n",
       "<table border=\"1\" class=\"dataframe\">\n",
       "  <thead>\n",
       "    <tr style=\"text-align: right;\">\n",
       "      <th></th>\n",
       "      <th>date</th>\n",
       "      <th>rate</th>\n",
       "    </tr>\n",
       "  </thead>\n",
       "  <tbody>\n",
       "    <tr>\n",
       "      <th>0</th>\n",
       "      <td>1973-01-02</td>\n",
       "      <td>8.02</td>\n",
       "    </tr>\n",
       "    <tr>\n",
       "      <th>1</th>\n",
       "      <td>1973-01-03</td>\n",
       "      <td>8.02</td>\n",
       "    </tr>\n",
       "    <tr>\n",
       "      <th>2</th>\n",
       "      <td>1973-01-04</td>\n",
       "      <td>8.00</td>\n",
       "    </tr>\n",
       "    <tr>\n",
       "      <th>3</th>\n",
       "      <td>1973-01-05</td>\n",
       "      <td>8.01</td>\n",
       "    </tr>\n",
       "    <tr>\n",
       "      <th>4</th>\n",
       "      <td>1973-01-08</td>\n",
       "      <td>8.00</td>\n",
       "    </tr>\n",
       "  </tbody>\n",
       "</table>\n",
       "</div>"
      ],
      "text/plain": [
       "        date  rate\n",
       "0 1973-01-02  8.02\n",
       "1 1973-01-03  8.02\n",
       "2 1973-01-04  8.00\n",
       "3 1973-01-05  8.01\n",
       "4 1973-01-08  8.00"
      ]
     },
     "execution_count": 6,
     "metadata": {},
     "output_type": "execute_result"
    }
   ],
   "source": [
    "data.head()"
   ]
  },
  {
   "cell_type": "markdown",
   "id": "985e8262",
   "metadata": {},
   "source": [
    "#### info"
   ]
  },
  {
   "cell_type": "code",
   "execution_count": 7,
   "id": "af512782",
   "metadata": {},
   "outputs": [
    {
     "name": "stdout",
     "output_type": "stream",
     "text": [
      "<class 'pandas.core.frame.DataFrame'>\n",
      "RangeIndex: 12649 entries, 0 to 12648\n",
      "Data columns (total 2 columns):\n",
      " #   Column  Non-Null Count  Dtype         \n",
      "---  ------  --------------  -----         \n",
      " 0   date    12649 non-null  datetime64[ns]\n",
      " 1   rate    12155 non-null  float64       \n",
      "dtypes: datetime64[ns](1), float64(1)\n",
      "memory usage: 197.8 KB\n"
     ]
    }
   ],
   "source": [
    "data.info()"
   ]
  },
  {
   "cell_type": "markdown",
   "id": "46a4494c",
   "metadata": {},
   "source": [
    "Converting rates to numeric"
   ]
  },
  {
   "cell_type": "code",
   "execution_count": 8,
   "id": "5ff0f85f",
   "metadata": {},
   "outputs": [],
   "source": [
    "data['rate'] = pd.to_numeric(data.rate)"
   ]
  },
  {
   "cell_type": "markdown",
   "id": "e3c64864",
   "metadata": {},
   "source": [
    "Sorting Date in Ascending order"
   ]
  },
  {
   "cell_type": "code",
   "execution_count": 9,
   "id": "07c57e08",
   "metadata": {},
   "outputs": [],
   "source": [
    "data = data.sort_values('date', ascending=True)"
   ]
  },
  {
   "cell_type": "markdown",
   "id": "c64b4c42",
   "metadata": {},
   "source": [
    "#### Descriptive Stats"
   ]
  },
  {
   "cell_type": "code",
   "execution_count": 10,
   "id": "55c55a50",
   "metadata": {},
   "outputs": [
    {
     "data": {
      "text/plain": [
       "count    12155.000000\n",
       "mean        34.206133\n",
       "std         21.089190\n",
       "min          7.190000\n",
       "25%         12.075000\n",
       "50%         35.890000\n",
       "75%         47.650000\n",
       "max         76.950000\n",
       "Name: rate, dtype: float64"
      ]
     },
     "execution_count": 10,
     "metadata": {},
     "output_type": "execute_result"
    }
   ],
   "source": [
    "data.rate.describe()"
   ]
  },
  {
   "cell_type": "markdown",
   "id": "6e8a65c4",
   "metadata": {},
   "source": [
    "#### Checking Null Values"
   ]
  },
  {
   "cell_type": "code",
   "execution_count": 11,
   "id": "cb708c8c",
   "metadata": {},
   "outputs": [
    {
     "data": {
      "text/plain": [
       "date      0\n",
       "rate    494\n",
       "dtype: int64"
      ]
     },
     "execution_count": 11,
     "metadata": {},
     "output_type": "execute_result"
    }
   ],
   "source": [
    "data.isnull().sum()"
   ]
  },
  {
   "cell_type": "markdown",
   "id": "2051d260",
   "metadata": {},
   "source": [
    "Forward Filling Null Values"
   ]
  },
  {
   "cell_type": "code",
   "execution_count": 12,
   "id": "556b5ddc",
   "metadata": {},
   "outputs": [],
   "source": [
    "#Forward Filling\n",
    "data.fillna(method='ffill', inplace=True)"
   ]
  },
  {
   "cell_type": "code",
   "execution_count": 13,
   "id": "bfa7ffb2",
   "metadata": {},
   "outputs": [
    {
     "data": {
      "text/plain": [
       "date    0\n",
       "rate    0\n",
       "dtype: int64"
      ]
     },
     "execution_count": 13,
     "metadata": {},
     "output_type": "execute_result"
    }
   ],
   "source": [
    "data.isnull().sum()"
   ]
  },
  {
   "cell_type": "markdown",
   "id": "f09867e7",
   "metadata": {},
   "source": [
    "Convert datatype int to float"
   ]
  },
  {
   "cell_type": "code",
   "execution_count": 14,
   "id": "f59c4a2e",
   "metadata": {},
   "outputs": [],
   "source": [
    "#transformation of values to float\n",
    "data['rate'] = pd.to_numeric(data['rate'], downcast=\"float\")"
   ]
  },
  {
   "cell_type": "markdown",
   "id": "3d9a1db7",
   "metadata": {},
   "source": [
    "#### info"
   ]
  },
  {
   "cell_type": "code",
   "execution_count": 15,
   "id": "3fe6312b",
   "metadata": {},
   "outputs": [
    {
     "name": "stdout",
     "output_type": "stream",
     "text": [
      "<class 'pandas.core.frame.DataFrame'>\n",
      "Int64Index: 12649 entries, 0 to 12648\n",
      "Data columns (total 2 columns):\n",
      " #   Column  Non-Null Count  Dtype         \n",
      "---  ------  --------------  -----         \n",
      " 0   date    12649 non-null  datetime64[ns]\n",
      " 1   rate    12649 non-null  float32       \n",
      "dtypes: datetime64[ns](1), float32(1)\n",
      "memory usage: 247.1 KB\n"
     ]
    }
   ],
   "source": [
    "data.info()"
   ]
  },
  {
   "cell_type": "markdown",
   "id": "bcaf068c",
   "metadata": {},
   "source": [
    "#### Checking Duplicates"
   ]
  },
  {
   "cell_type": "code",
   "execution_count": 16,
   "id": "92a44ef9",
   "metadata": {},
   "outputs": [
    {
     "data": {
      "text/plain": [
       "0"
      ]
     },
     "execution_count": 16,
     "metadata": {},
     "output_type": "execute_result"
    }
   ],
   "source": [
    "data.duplicated().sum()"
   ]
  },
  {
   "cell_type": "markdown",
   "id": "0a7d88bf",
   "metadata": {},
   "source": [
    "No Duplicates found"
   ]
  },
  {
   "cell_type": "markdown",
   "id": "d97300ea",
   "metadata": {},
   "source": [
    "### Final Data"
   ]
  },
  {
   "cell_type": "code",
   "execution_count": 17,
   "id": "21065395",
   "metadata": {},
   "outputs": [],
   "source": [
    "final_data = data.copy()"
   ]
  },
  {
   "cell_type": "code",
   "execution_count": 18,
   "id": "d283bee7",
   "metadata": {},
   "outputs": [
    {
     "data": {
      "text/html": [
       "<div>\n",
       "<style scoped>\n",
       "    .dataframe tbody tr th:only-of-type {\n",
       "        vertical-align: middle;\n",
       "    }\n",
       "\n",
       "    .dataframe tbody tr th {\n",
       "        vertical-align: top;\n",
       "    }\n",
       "\n",
       "    .dataframe thead th {\n",
       "        text-align: right;\n",
       "    }\n",
       "</style>\n",
       "<table border=\"1\" class=\"dataframe\">\n",
       "  <thead>\n",
       "    <tr style=\"text-align: right;\">\n",
       "      <th></th>\n",
       "      <th>date</th>\n",
       "      <th>rate</th>\n",
       "    </tr>\n",
       "  </thead>\n",
       "  <tbody>\n",
       "    <tr>\n",
       "      <th>0</th>\n",
       "      <td>1973-01-02</td>\n",
       "      <td>8.02</td>\n",
       "    </tr>\n",
       "    <tr>\n",
       "      <th>1</th>\n",
       "      <td>1973-01-03</td>\n",
       "      <td>8.02</td>\n",
       "    </tr>\n",
       "    <tr>\n",
       "      <th>2</th>\n",
       "      <td>1973-01-04</td>\n",
       "      <td>8.00</td>\n",
       "    </tr>\n",
       "    <tr>\n",
       "      <th>3</th>\n",
       "      <td>1973-01-05</td>\n",
       "      <td>8.01</td>\n",
       "    </tr>\n",
       "    <tr>\n",
       "      <th>4</th>\n",
       "      <td>1973-01-08</td>\n",
       "      <td>8.00</td>\n",
       "    </tr>\n",
       "  </tbody>\n",
       "</table>\n",
       "</div>"
      ],
      "text/plain": [
       "        date  rate\n",
       "0 1973-01-02  8.02\n",
       "1 1973-01-03  8.02\n",
       "2 1973-01-04  8.00\n",
       "3 1973-01-05  8.01\n",
       "4 1973-01-08  8.00"
      ]
     },
     "execution_count": 18,
     "metadata": {},
     "output_type": "execute_result"
    }
   ],
   "source": [
    "final_data.head()"
   ]
  },
  {
   "cell_type": "code",
   "execution_count": 19,
   "id": "f6bd6a34",
   "metadata": {},
   "outputs": [],
   "source": [
    "data1 = data.copy()"
   ]
  },
  {
   "cell_type": "code",
   "execution_count": 20,
   "id": "a9d5173d",
   "metadata": {},
   "outputs": [],
   "source": [
    "#data1 = data.set_index('date')"
   ]
  },
  {
   "cell_type": "code",
   "execution_count": 21,
   "id": "604c3887",
   "metadata": {},
   "outputs": [
    {
     "data": {
      "text/html": [
       "<div>\n",
       "<style scoped>\n",
       "    .dataframe tbody tr th:only-of-type {\n",
       "        vertical-align: middle;\n",
       "    }\n",
       "\n",
       "    .dataframe tbody tr th {\n",
       "        vertical-align: top;\n",
       "    }\n",
       "\n",
       "    .dataframe thead th {\n",
       "        text-align: right;\n",
       "    }\n",
       "</style>\n",
       "<table border=\"1\" class=\"dataframe\">\n",
       "  <thead>\n",
       "    <tr style=\"text-align: right;\">\n",
       "      <th></th>\n",
       "      <th>date</th>\n",
       "      <th>rate</th>\n",
       "    </tr>\n",
       "  </thead>\n",
       "  <tbody>\n",
       "    <tr>\n",
       "      <th>0</th>\n",
       "      <td>1973-01-02</td>\n",
       "      <td>8.02</td>\n",
       "    </tr>\n",
       "    <tr>\n",
       "      <th>1</th>\n",
       "      <td>1973-01-03</td>\n",
       "      <td>8.02</td>\n",
       "    </tr>\n",
       "    <tr>\n",
       "      <th>2</th>\n",
       "      <td>1973-01-04</td>\n",
       "      <td>8.00</td>\n",
       "    </tr>\n",
       "    <tr>\n",
       "      <th>3</th>\n",
       "      <td>1973-01-05</td>\n",
       "      <td>8.01</td>\n",
       "    </tr>\n",
       "    <tr>\n",
       "      <th>4</th>\n",
       "      <td>1973-01-08</td>\n",
       "      <td>8.00</td>\n",
       "    </tr>\n",
       "  </tbody>\n",
       "</table>\n",
       "</div>"
      ],
      "text/plain": [
       "        date  rate\n",
       "0 1973-01-02  8.02\n",
       "1 1973-01-03  8.02\n",
       "2 1973-01-04  8.00\n",
       "3 1973-01-05  8.01\n",
       "4 1973-01-08  8.00"
      ]
     },
     "execution_count": 21,
     "metadata": {},
     "output_type": "execute_result"
    }
   ],
   "source": [
    "data1.head()"
   ]
  },
  {
   "cell_type": "code",
   "execution_count": 22,
   "id": "677c44a0",
   "metadata": {},
   "outputs": [],
   "source": [
    "final_data1 = data1.copy()"
   ]
  },
  {
   "cell_type": "markdown",
   "id": "610e8994",
   "metadata": {},
   "source": [
    "### Segregating Years, Months, Day"
   ]
  },
  {
   "cell_type": "code",
   "execution_count": 23,
   "id": "36b6d62c",
   "metadata": {},
   "outputs": [],
   "source": [
    "#copy data \n",
    "df1 = final_data.copy()"
   ]
  },
  {
   "cell_type": "code",
   "execution_count": 24,
   "id": "8dc323ac",
   "metadata": {},
   "outputs": [],
   "source": [
    "#if date is not set to index then use \n",
    "#Years\n",
    "df1['Year']= [i.year for i in df1['date']]\n",
    "#Months\n",
    "df1['Month']= [i.month for i in df1['date']]\n",
    "#Days\n",
    "df1['Day']= [i.day for i in df1['date']]"
   ]
  },
  {
   "cell_type": "code",
   "execution_count": 25,
   "id": "d4d13148",
   "metadata": {},
   "outputs": [],
   "source": [
    "#Date is set to index\n",
    "#Years\n",
    "#df1['Year']= df1.index.year\n",
    "#Months\n",
    "#df1['Month']= df1.index.month\n",
    "#Days\n",
    "#df1['Day']= df1.index.day"
   ]
  },
  {
   "cell_type": "code",
   "execution_count": 26,
   "id": "99d0a126",
   "metadata": {},
   "outputs": [
    {
     "data": {
      "text/html": [
       "<div>\n",
       "<style scoped>\n",
       "    .dataframe tbody tr th:only-of-type {\n",
       "        vertical-align: middle;\n",
       "    }\n",
       "\n",
       "    .dataframe tbody tr th {\n",
       "        vertical-align: top;\n",
       "    }\n",
       "\n",
       "    .dataframe thead th {\n",
       "        text-align: right;\n",
       "    }\n",
       "</style>\n",
       "<table border=\"1\" class=\"dataframe\">\n",
       "  <thead>\n",
       "    <tr style=\"text-align: right;\">\n",
       "      <th></th>\n",
       "      <th>date</th>\n",
       "      <th>rate</th>\n",
       "      <th>Year</th>\n",
       "      <th>Month</th>\n",
       "      <th>Day</th>\n",
       "    </tr>\n",
       "  </thead>\n",
       "  <tbody>\n",
       "    <tr>\n",
       "      <th>0</th>\n",
       "      <td>1973-01-02</td>\n",
       "      <td>8.02</td>\n",
       "      <td>1973</td>\n",
       "      <td>1</td>\n",
       "      <td>2</td>\n",
       "    </tr>\n",
       "    <tr>\n",
       "      <th>1</th>\n",
       "      <td>1973-01-03</td>\n",
       "      <td>8.02</td>\n",
       "      <td>1973</td>\n",
       "      <td>1</td>\n",
       "      <td>3</td>\n",
       "    </tr>\n",
       "    <tr>\n",
       "      <th>2</th>\n",
       "      <td>1973-01-04</td>\n",
       "      <td>8.00</td>\n",
       "      <td>1973</td>\n",
       "      <td>1</td>\n",
       "      <td>4</td>\n",
       "    </tr>\n",
       "    <tr>\n",
       "      <th>3</th>\n",
       "      <td>1973-01-05</td>\n",
       "      <td>8.01</td>\n",
       "      <td>1973</td>\n",
       "      <td>1</td>\n",
       "      <td>5</td>\n",
       "    </tr>\n",
       "    <tr>\n",
       "      <th>4</th>\n",
       "      <td>1973-01-08</td>\n",
       "      <td>8.00</td>\n",
       "      <td>1973</td>\n",
       "      <td>1</td>\n",
       "      <td>8</td>\n",
       "    </tr>\n",
       "  </tbody>\n",
       "</table>\n",
       "</div>"
      ],
      "text/plain": [
       "        date  rate  Year  Month  Day\n",
       "0 1973-01-02  8.02  1973      1    2\n",
       "1 1973-01-03  8.02  1973      1    3\n",
       "2 1973-01-04  8.00  1973      1    4\n",
       "3 1973-01-05  8.01  1973      1    5\n",
       "4 1973-01-08  8.00  1973      1    8"
      ]
     },
     "execution_count": 26,
     "metadata": {},
     "output_type": "execute_result"
    }
   ],
   "source": [
    "df1.head()"
   ]
  },
  {
   "cell_type": "code",
   "execution_count": 27,
   "id": "ae310fda",
   "metadata": {},
   "outputs": [
    {
     "name": "stdout",
     "output_type": "stream",
     "text": [
      "<class 'pandas.core.frame.DataFrame'>\n",
      "Int64Index: 12649 entries, 0 to 12648\n",
      "Data columns (total 5 columns):\n",
      " #   Column  Non-Null Count  Dtype         \n",
      "---  ------  --------------  -----         \n",
      " 0   date    12649 non-null  datetime64[ns]\n",
      " 1   rate    12649 non-null  float32       \n",
      " 2   Year    12649 non-null  int64         \n",
      " 3   Month   12649 non-null  int64         \n",
      " 4   Day     12649 non-null  int64         \n",
      "dtypes: datetime64[ns](1), float32(1), int64(3)\n",
      "memory usage: 543.5 KB\n"
     ]
    }
   ],
   "source": [
    "df1.info()"
   ]
  },
  {
   "cell_type": "markdown",
   "id": "a20ed95a",
   "metadata": {},
   "source": [
    "## Visialization"
   ]
  },
  {
   "cell_type": "markdown",
   "id": "d24da298",
   "metadata": {},
   "source": [
    "### Line Plot"
   ]
  },
  {
   "cell_type": "code",
   "execution_count": 28,
   "id": "06d58efb",
   "metadata": {},
   "outputs": [
    {
     "data": {
      "image/png": "[encoded data removed]",
      "text/plain": [
       "<Figure size 1800x800 with 1 Axes>"
      ]
     },
     "metadata": {
      "needs_background": "light"
     },
     "output_type": "display_data"
    }
   ],
   "source": [
    "#Line Plot\n",
    "plt.figure(figsize =(18,8),dpi=100)\n",
    "df1.rate.plot()\n",
    "plt.ylabel('Spot exchange rate, US \\$ into INR')\n",
    "plt.xlabel('Year')\n",
    "plt.title('INR/USD exchange rate for the years 1973-01-02 to 2021-06-25')\n",
    "plt.show()"
   ]
  },
  {
   "cell_type": "markdown",
   "id": "6be77639",
   "metadata": {},
   "source": [
    "### Line Plot on 10 years interval"
   ]
  },
  {
   "cell_type": "code",
   "execution_count": 29,
   "id": "340fb13d",
   "metadata": {},
   "outputs": [
    {
     "data": {
      "image/png": "[encoded data removed]",
      "text/plain": [
       "<Figure size 1080x720 with 5 Axes>"
      ]
     },
     "metadata": {
      "needs_background": "light"
     },
     "output_type": "display_data"
    }
   ],
   "source": [
    "fig, ax = plt.subplots(5, 1, figsize=(15, 10), sharey=True)\n",
    "df1.loc['1973':'1982']['rate'].plot(xlabel=\"1973-1982\",\n",
    "                                                stacked=True,\n",
    "                                                ax=ax[0],\n",
    "                                                grid=True)\n",
    "df1.loc['1983':'1992']['rate'].plot(xlabel=\"1983-1992\",\n",
    "                                                stacked=True,\n",
    "                                                ax=ax[1],\n",
    "                                                grid=True)\n",
    "df1.loc['1993':'2002']['rate'].plot(xlabel=\"1993-2002\",\n",
    "                                                ax=ax[2],\n",
    "                                                grid=True)\n",
    "df1.loc['2003':'2012']['rate'].plot(xlabel=\"2003-2012\",\n",
    "                                                ax=ax[3],\n",
    "                                                grid=True)\n",
    "df1.loc['2013':'2022']['rate'].plot(xlabel=\"2013-2021\",\n",
    "                                                ax=ax[4],\n",
    "                                                grid=True)\n",
    "plt.tight_layout()\n",
    "plt.show()"
   ]
  },
  {
   "cell_type": "markdown",
   "id": "648b4a97",
   "metadata": {},
   "source": [
    "### Box Plot"
   ]
  },
  {
   "cell_type": "code",
   "execution_count": 30,
   "id": "917a4d44",
   "metadata": {},
   "outputs": [
    {
     "data": {
      "image/png": "[encoded data removed]",
      "text/plain": [
       "<Figure size 1296x576 with 49 Axes>"
      ]
     },
     "metadata": {
      "needs_background": "light"
     },
     "output_type": "display_data"
    }
   ],
   "source": [
    "box1 = df1.groupby('Year')\n",
    "\n",
    "years = list(np.unique(df1.Year))\n",
    "\n",
    "fig, ax = plt.subplots(1, len(years), figsize=(18, 8), sharey=True)\n",
    "for i, year in enumerate(years):\n",
    "    X = box1.get_group(year)\n",
    "    # subplots=True,layout=(1,len(A)),figsize=(18,8),use_index = True,\n",
    "    X.plot(y='rate',\n",
    "           kind='box',\n",
    "           ax=ax[i],\n",
    "           label=year,\n",
    "           rot=90,\n",
    "           ylim=(5, 85),\n",
    "           sharey=True)\n",
    "    plt.tight_layout\n",
    "#plt.title('box plot');\n",
    "plt.show()"
   ]
  },
  {
   "cell_type": "markdown",
   "id": "2f1e76fd",
   "metadata": {},
   "source": [
    "### Box Plot with 5 years interval"
   ]
  },
  {
   "cell_type": "code",
   "execution_count": 31,
   "id": "9776f965",
   "metadata": {},
   "outputs": [
    {
     "data": {
      "image/png": "[encoded data removed]",
      "text/plain": [
       "<Figure size 1080x576 with 10 Axes>"
      ]
     },
     "metadata": {
      "needs_background": "light"
     },
     "output_type": "display_data"
    }
   ],
   "source": [
    "fig, ax = plt.subplots(1, 10, figsize=(15, 8), sharey=True)\n",
    "df1.loc['1973':'1977']['rate'].plot(kind='box',\n",
    "                                                label=\"1973-1977\",\n",
    "                                                stacked=True,\n",
    "                                                ax=ax[0],\n",
    "                                                grid=True)\n",
    "df1.loc['1977':'1982']['rate'].plot(kind='box',\n",
    "                                                label=\"1977-1982\",\n",
    "                                                stacked=True,\n",
    "                                                ax=ax[1],\n",
    "                                                grid=True)\n",
    "df1.loc['1983':'1987']['rate'].plot(kind='box',\n",
    "                                                label=\"1983-1987\",\n",
    "                                                stacked=True,\n",
    "                                                ax=ax[2],\n",
    "                                                grid=True)\n",
    "df1.loc['1988':'1992']['rate'].plot(kind='box',\n",
    "                                                label=\"1988-1992\",\n",
    "                                                stacked=True,\n",
    "                                                ax=ax[3],\n",
    "                                                grid=True)\n",
    "df1.loc['1992':'1997']['rate'].plot(kind='box',\n",
    "                                                label=\"1993-1997\",\n",
    "                                                ax=ax[4],\n",
    "                                                grid=True)\n",
    "df1.loc['1997':'2002']['rate'].plot(kind='box',\n",
    "                                                label=\"1998-2002\",\n",
    "                                                ax=ax[5],\n",
    "                                                grid=True)\n",
    "df1.loc['2003':'2007']['rate'].plot(kind='box',\n",
    "                                                label=\"2003-2007\",\n",
    "                                                ax=ax[6],\n",
    "                                                grid=True)\n",
    "df1.loc['2008':'2012']['rate'].plot(kind='box',\n",
    "                                                label=\"2008-2012\",\n",
    "                                                ax=ax[7],\n",
    "                                                grid=True)\n",
    "df1.loc['2013':'2017']['rate'].plot(kind='box',\n",
    "                                                label=\"2013-2017\",\n",
    "                                                ax=ax[8],\n",
    "                                                grid=True)\n",
    "df1.loc['2018':'2021']['rate'].plot(kind='box',\n",
    "                                                label=\"2018-2021\",\n",
    "                                                ax=ax[9],\n",
    "                                                grid=True)\n",
    "plt.tight_layout()\n",
    "plt.show()"
   ]
  },
  {
   "cell_type": "markdown",
   "id": "1b61604c",
   "metadata": {},
   "source": [
    "## PyCaret"
   ]
  },
  {
   "cell_type": "code",
   "execution_count": 32,
   "id": "9142e31d",
   "metadata": {},
   "outputs": [],
   "source": [
    "#Adding Series into Dataframe\n",
    "df1['Series'] = np.arange(1,len(df1)+1)"
   ]
  },
  {
   "cell_type": "code",
   "execution_count": 33,
   "id": "87f7fb53",
   "metadata": {},
   "outputs": [
    {
     "data": {
      "text/html": [
       "<div>\n",
       "<style scoped>\n",
       "    .dataframe tbody tr th:only-of-type {\n",
       "        vertical-align: middle;\n",
       "    }\n",
       "\n",
       "    .dataframe tbody tr th {\n",
       "        vertical-align: top;\n",
       "    }\n",
       "\n",
       "    .dataframe thead th {\n",
       "        text-align: right;\n",
       "    }\n",
       "</style>\n",
       "<table border=\"1\" class=\"dataframe\">\n",
       "  <thead>\n",
       "    <tr style=\"text-align: right;\">\n",
       "      <th></th>\n",
       "      <th>date</th>\n",
       "      <th>rate</th>\n",
       "      <th>Year</th>\n",
       "      <th>Month</th>\n",
       "      <th>Day</th>\n",
       "      <th>Series</th>\n",
       "    </tr>\n",
       "  </thead>\n",
       "  <tbody>\n",
       "    <tr>\n",
       "      <th>0</th>\n",
       "      <td>1973-01-02</td>\n",
       "      <td>8.02</td>\n",
       "      <td>1973</td>\n",
       "      <td>1</td>\n",
       "      <td>2</td>\n",
       "      <td>1</td>\n",
       "    </tr>\n",
       "  </tbody>\n",
       "</table>\n",
       "</div>"
      ],
      "text/plain": [
       "        date  rate  Year  Month  Day  Series\n",
       "0 1973-01-02  8.02  1973      1    2       1"
      ]
     },
     "execution_count": 33,
     "metadata": {},
     "output_type": "execute_result"
    }
   ],
   "source": [
    "df1.head(1)"
   ]
  },
  {
   "cell_type": "code",
   "execution_count": 34,
   "id": "d9f8c503",
   "metadata": {},
   "outputs": [],
   "source": [
    "#Droping date\n",
    "df1.drop(['date'], axis=1, inplace=True)"
   ]
  },
  {
   "cell_type": "markdown",
   "id": "015bbb6c",
   "metadata": {},
   "source": [
    "### Train Test Split"
   ]
  },
  {
   "cell_type": "markdown",
   "id": "85c0c62e",
   "metadata": {},
   "source": [
    "#### Spliting Data"
   ]
  },
  {
   "cell_type": "code",
   "execution_count": 35,
   "id": "9c7934bd",
   "metadata": {},
   "outputs": [],
   "source": [
    "df1_test=df1[df1['Year']<1985]"
   ]
  },
  {
   "cell_type": "code",
   "execution_count": 36,
   "id": "a7c11a4a",
   "metadata": {},
   "outputs": [],
   "source": [
    "df1_train=df1[df1['Year']>=1985]"
   ]
  },
  {
   "cell_type": "code",
   "execution_count": 37,
   "id": "66b38008",
   "metadata": {},
   "outputs": [
    {
     "name": "stdout",
     "output_type": "stream",
     "text": [
      "Train: (9519, 5)\n",
      "Test: (3130, 5)\n"
     ]
    }
   ],
   "source": [
    "print(\"Train:\",df1_train.shape)\n",
    "print('Test:',df1_test.shape)"
   ]
  },
  {
   "cell_type": "code",
   "execution_count": 38,
   "id": "702ec00a",
   "metadata": {},
   "outputs": [],
   "source": [
    "#Library\n",
    "from pycaret.regression import *"
   ]
  },
  {
   "cell_type": "code",
   "execution_count": 39,
   "id": "fbdb605e",
   "metadata": {},
   "outputs": [
    {
     "data": {
      "text/html": [
       "<style type=\"text/css\">\n",
       "#T_3b13d_row54_col1 {\n",
       "  background-color: lightgreen;\n",
       "}\n",
       "</style>\n",
       "<table id=\"T_3b13d_\">\n",
       "  <thead>\n",
       "    <tr>\n",
       "      <th class=\"blank level0\" >&nbsp;</th>\n",
       "      <th class=\"col_heading level0 col0\" >Description</th>\n",
       "      <th class=\"col_heading level0 col1\" >Value</th>\n",
       "    </tr>\n",
       "  </thead>\n",
       "  <tbody>\n",
       "    <tr>\n",
       "      <th id=\"T_3b13d_level0_row0\" class=\"row_heading level0 row0\" >0</th>\n",
       "      <td id=\"T_3b13d_row0_col0\" class=\"data row0 col0\" >session_id</td>\n",
       "      <td id=\"T_3b13d_row0_col1\" class=\"data row0 col1\" >123</td>\n",
       "    </tr>\n",
       "    <tr>\n",
       "      <th id=\"T_3b13d_level0_row1\" class=\"row_heading level0 row1\" >1</th>\n",
       "      <td id=\"T_3b13d_row1_col0\" class=\"data row1 col0\" >Target</td>\n",
       "      <td id=\"T_3b13d_row1_col1\" class=\"data row1 col1\" >rate</td>\n",
       "    </tr>\n",
       "    <tr>\n",
       "      <th id=\"T_3b13d_level0_row2\" class=\"row_heading level0 row2\" >2</th>\n",
       "      <td id=\"T_3b13d_row2_col0\" class=\"data row2 col0\" >Original Data</td>\n",
       "      <td id=\"T_3b13d_row2_col1\" class=\"data row2 col1\" >(9519, 5)</td>\n",
       "    </tr>\n",
       "    <tr>\n",
       "      <th id=\"T_3b13d_level0_row3\" class=\"row_heading level0 row3\" >3</th>\n",
       "      <td id=\"T_3b13d_row3_col0\" class=\"data row3 col0\" >Missing Values</td>\n",
       "      <td id=\"T_3b13d_row3_col1\" class=\"data row3 col1\" >False</td>\n",
       "    </tr>\n",
       "    <tr>\n",
       "      <th id=\"T_3b13d_level0_row4\" class=\"row_heading level0 row4\" >4</th>\n",
       "      <td id=\"T_3b13d_row4_col0\" class=\"data row4 col0\" >Numeric Features</td>\n",
       "      <td id=\"T_3b13d_row4_col1\" class=\"data row4 col1\" >3</td>\n",
       "    </tr>\n",
       "    <tr>\n",
       "      <th id=\"T_3b13d_level0_row5\" class=\"row_heading level0 row5\" >5</th>\n",
       "      <td id=\"T_3b13d_row5_col0\" class=\"data row5 col0\" >Categorical Features</td>\n",
       "      <td id=\"T_3b13d_row5_col1\" class=\"data row5 col1\" >1</td>\n",
       "    </tr>\n",
       "    <tr>\n",
       "      <th id=\"T_3b13d_level0_row6\" class=\"row_heading level0 row6\" >6</th>\n",
       "      <td id=\"T_3b13d_row6_col0\" class=\"data row6 col0\" >Ordinal Features</td>\n",
       "      <td id=\"T_3b13d_row6_col1\" class=\"data row6 col1\" >False</td>\n",
       "    </tr>\n",
       "    <tr>\n",
       "      <th id=\"T_3b13d_level0_row7\" class=\"row_heading level0 row7\" >7</th>\n",
       "      <td id=\"T_3b13d_row7_col0\" class=\"data row7 col0\" >High Cardinality Features</td>\n",
       "      <td id=\"T_3b13d_row7_col1\" class=\"data row7 col1\" >False</td>\n",
       "    </tr>\n",
       "    <tr>\n",
       "      <th id=\"T_3b13d_level0_row8\" class=\"row_heading level0 row8\" >8</th>\n",
       "      <td id=\"T_3b13d_row8_col0\" class=\"data row8 col0\" >High Cardinality Method</td>\n",
       "      <td id=\"T_3b13d_row8_col1\" class=\"data row8 col1\" >None</td>\n",
       "    </tr>\n",
       "    <tr>\n",
       "      <th id=\"T_3b13d_level0_row9\" class=\"row_heading level0 row9\" >9</th>\n",
       "      <td id=\"T_3b13d_row9_col0\" class=\"data row9 col0\" >Transformed Train Set</td>\n",
       "      <td id=\"T_3b13d_row9_col1\" class=\"data row9 col1\" >(9519, 14)</td>\n",
       "    </tr>\n",
       "    <tr>\n",
       "      <th id=\"T_3b13d_level0_row10\" class=\"row_heading level0 row10\" >10</th>\n",
       "      <td id=\"T_3b13d_row10_col0\" class=\"data row10 col0\" >Transformed Test Set</td>\n",
       "      <td id=\"T_3b13d_row10_col1\" class=\"data row10 col1\" >(3130, 14)</td>\n",
       "    </tr>\n",
       "    <tr>\n",
       "      <th id=\"T_3b13d_level0_row11\" class=\"row_heading level0 row11\" >11</th>\n",
       "      <td id=\"T_3b13d_row11_col0\" class=\"data row11 col0\" >Shuffle Train-Test</td>\n",
       "      <td id=\"T_3b13d_row11_col1\" class=\"data row11 col1\" >True</td>\n",
       "    </tr>\n",
       "    <tr>\n",
       "      <th id=\"T_3b13d_level0_row12\" class=\"row_heading level0 row12\" >12</th>\n",
       "      <td id=\"T_3b13d_row12_col0\" class=\"data row12 col0\" >Stratify Train-Test</td>\n",
       "      <td id=\"T_3b13d_row12_col1\" class=\"data row12 col1\" >False</td>\n",
       "    </tr>\n",
       "    <tr>\n",
       "      <th id=\"T_3b13d_level0_row13\" class=\"row_heading level0 row13\" >13</th>\n",
       "      <td id=\"T_3b13d_row13_col0\" class=\"data row13 col0\" >Fold Generator</td>\n",
       "      <td id=\"T_3b13d_row13_col1\" class=\"data row13 col1\" >TimeSeriesSplit</td>\n",
       "    </tr>\n",
       "    <tr>\n",
       "      <th id=\"T_3b13d_level0_row14\" class=\"row_heading level0 row14\" >14</th>\n",
       "      <td id=\"T_3b13d_row14_col0\" class=\"data row14 col0\" >Fold Number</td>\n",
       "      <td id=\"T_3b13d_row14_col1\" class=\"data row14 col1\" >3</td>\n",
       "    </tr>\n",
       "    <tr>\n",
       "      <th id=\"T_3b13d_level0_row15\" class=\"row_heading level0 row15\" >15</th>\n",
       "      <td id=\"T_3b13d_row15_col0\" class=\"data row15 col0\" >CPU Jobs</td>\n",
       "      <td id=\"T_3b13d_row15_col1\" class=\"data row15 col1\" >-1</td>\n",
       "    </tr>\n",
       "    <tr>\n",
       "      <th id=\"T_3b13d_level0_row16\" class=\"row_heading level0 row16\" >16</th>\n",
       "      <td id=\"T_3b13d_row16_col0\" class=\"data row16 col0\" >Use GPU</td>\n",
       "      <td id=\"T_3b13d_row16_col1\" class=\"data row16 col1\" >False</td>\n",
       "    </tr>\n",
       "    <tr>\n",
       "      <th id=\"T_3b13d_level0_row17\" class=\"row_heading level0 row17\" >17</th>\n",
       "      <td id=\"T_3b13d_row17_col0\" class=\"data row17 col0\" >Log Experiment</td>\n",
       "      <td id=\"T_3b13d_row17_col1\" class=\"data row17 col1\" >False</td>\n",
       "    </tr>\n",
       "    <tr>\n",
       "      <th id=\"T_3b13d_level0_row18\" class=\"row_heading level0 row18\" >18</th>\n",
       "      <td id=\"T_3b13d_row18_col0\" class=\"data row18 col0\" >Experiment Name</td>\n",
       "      <td id=\"T_3b13d_row18_col1\" class=\"data row18 col1\" >reg-default-name</td>\n",
       "    </tr>\n",
       "    <tr>\n",
       "      <th id=\"T_3b13d_level0_row19\" class=\"row_heading level0 row19\" >19</th>\n",
       "      <td id=\"T_3b13d_row19_col0\" class=\"data row19 col0\" >USI</td>\n",
       "      <td id=\"T_3b13d_row19_col1\" class=\"data row19 col1\" >dd30</td>\n",
       "    </tr>\n",
       "    <tr>\n",
       "      <th id=\"T_3b13d_level0_row20\" class=\"row_heading level0 row20\" >20</th>\n",
       "      <td id=\"T_3b13d_row20_col0\" class=\"data row20 col0\" >Imputation Type</td>\n",
       "      <td id=\"T_3b13d_row20_col1\" class=\"data row20 col1\" >simple</td>\n",
       "    </tr>\n",
       "    <tr>\n",
       "      <th id=\"T_3b13d_level0_row21\" class=\"row_heading level0 row21\" >21</th>\n",
       "      <td id=\"T_3b13d_row21_col0\" class=\"data row21 col0\" >Iterative Imputation Iteration</td>\n",
       "      <td id=\"T_3b13d_row21_col1\" class=\"data row21 col1\" >None</td>\n",
       "    </tr>\n",
       "    <tr>\n",
       "      <th id=\"T_3b13d_level0_row22\" class=\"row_heading level0 row22\" >22</th>\n",
       "      <td id=\"T_3b13d_row22_col0\" class=\"data row22 col0\" >Numeric Imputer</td>\n",
       "      <td id=\"T_3b13d_row22_col1\" class=\"data row22 col1\" >mean</td>\n",
       "    </tr>\n",
       "    <tr>\n",
       "      <th id=\"T_3b13d_level0_row23\" class=\"row_heading level0 row23\" >23</th>\n",
       "      <td id=\"T_3b13d_row23_col0\" class=\"data row23 col0\" >Iterative Imputation Numeric Model</td>\n",
       "      <td id=\"T_3b13d_row23_col1\" class=\"data row23 col1\" >None</td>\n",
       "    </tr>\n",
       "    <tr>\n",
       "      <th id=\"T_3b13d_level0_row24\" class=\"row_heading level0 row24\" >24</th>\n",
       "      <td id=\"T_3b13d_row24_col0\" class=\"data row24 col0\" >Categorical Imputer</td>\n",
       "      <td id=\"T_3b13d_row24_col1\" class=\"data row24 col1\" >constant</td>\n",
       "    </tr>\n",
       "    <tr>\n",
       "      <th id=\"T_3b13d_level0_row25\" class=\"row_heading level0 row25\" >25</th>\n",
       "      <td id=\"T_3b13d_row25_col0\" class=\"data row25 col0\" >Iterative Imputation Categorical Model</td>\n",
       "      <td id=\"T_3b13d_row25_col1\" class=\"data row25 col1\" >None</td>\n",
       "    </tr>\n",
       "    <tr>\n",
       "      <th id=\"T_3b13d_level0_row26\" class=\"row_heading level0 row26\" >26</th>\n",
       "      <td id=\"T_3b13d_row26_col0\" class=\"data row26 col0\" >Unknown Categoricals Handling</td>\n",
       "      <td id=\"T_3b13d_row26_col1\" class=\"data row26 col1\" >least_frequent</td>\n",
       "    </tr>\n",
       "    <tr>\n",
       "      <th id=\"T_3b13d_level0_row27\" class=\"row_heading level0 row27\" >27</th>\n",
       "      <td id=\"T_3b13d_row27_col0\" class=\"data row27 col0\" >Normalize</td>\n",
       "      <td id=\"T_3b13d_row27_col1\" class=\"data row27 col1\" >False</td>\n",
       "    </tr>\n",
       "    <tr>\n",
       "      <th id=\"T_3b13d_level0_row28\" class=\"row_heading level0 row28\" >28</th>\n",
       "      <td id=\"T_3b13d_row28_col0\" class=\"data row28 col0\" >Normalize Method</td>\n",
       "      <td id=\"T_3b13d_row28_col1\" class=\"data row28 col1\" >None</td>\n",
       "    </tr>\n",
       "    <tr>\n",
       "      <th id=\"T_3b13d_level0_row29\" class=\"row_heading level0 row29\" >29</th>\n",
       "      <td id=\"T_3b13d_row29_col0\" class=\"data row29 col0\" >Transformation</td>\n",
       "      <td id=\"T_3b13d_row29_col1\" class=\"data row29 col1\" >False</td>\n",
       "    </tr>\n",
       "    <tr>\n",
       "      <th id=\"T_3b13d_level0_row30\" class=\"row_heading level0 row30\" >30</th>\n",
       "      <td id=\"T_3b13d_row30_col0\" class=\"data row30 col0\" >Transformation Method</td>\n",
       "      <td id=\"T_3b13d_row30_col1\" class=\"data row30 col1\" >None</td>\n",
       "    </tr>\n",
       "    <tr>\n",
       "      <th id=\"T_3b13d_level0_row31\" class=\"row_heading level0 row31\" >31</th>\n",
       "      <td id=\"T_3b13d_row31_col0\" class=\"data row31 col0\" >PCA</td>\n",
       "      <td id=\"T_3b13d_row31_col1\" class=\"data row31 col1\" >False</td>\n",
       "    </tr>\n",
       "    <tr>\n",
       "      <th id=\"T_3b13d_level0_row32\" class=\"row_heading level0 row32\" >32</th>\n",
       "      <td id=\"T_3b13d_row32_col0\" class=\"data row32 col0\" >PCA Method</td>\n",
       "      <td id=\"T_3b13d_row32_col1\" class=\"data row32 col1\" >None</td>\n",
       "    </tr>\n",
       "    <tr>\n",
       "      <th id=\"T_3b13d_level0_row33\" class=\"row_heading level0 row33\" >33</th>\n",
       "      <td id=\"T_3b13d_row33_col0\" class=\"data row33 col0\" >PCA Components</td>\n",
       "      <td id=\"T_3b13d_row33_col1\" class=\"data row33 col1\" >None</td>\n",
       "    </tr>\n",
       "    <tr>\n",
       "      <th id=\"T_3b13d_level0_row34\" class=\"row_heading level0 row34\" >34</th>\n",
       "      <td id=\"T_3b13d_row34_col0\" class=\"data row34 col0\" >Ignore Low Variance</td>\n",
       "      <td id=\"T_3b13d_row34_col1\" class=\"data row34 col1\" >False</td>\n",
       "    </tr>\n",
       "    <tr>\n",
       "      <th id=\"T_3b13d_level0_row35\" class=\"row_heading level0 row35\" >35</th>\n",
       "      <td id=\"T_3b13d_row35_col0\" class=\"data row35 col0\" >Combine Rare Levels</td>\n",
       "      <td id=\"T_3b13d_row35_col1\" class=\"data row35 col1\" >False</td>\n",
       "    </tr>\n",
       "    <tr>\n",
       "      <th id=\"T_3b13d_level0_row36\" class=\"row_heading level0 row36\" >36</th>\n",
       "      <td id=\"T_3b13d_row36_col0\" class=\"data row36 col0\" >Rare Level Threshold</td>\n",
       "      <td id=\"T_3b13d_row36_col1\" class=\"data row36 col1\" >None</td>\n",
       "    </tr>\n",
       "    <tr>\n",
       "      <th id=\"T_3b13d_level0_row37\" class=\"row_heading level0 row37\" >37</th>\n",
       "      <td id=\"T_3b13d_row37_col0\" class=\"data row37 col0\" >Numeric Binning</td>\n",
       "      <td id=\"T_3b13d_row37_col1\" class=\"data row37 col1\" >False</td>\n",
       "    </tr>\n",
       "    <tr>\n",
       "      <th id=\"T_3b13d_level0_row38\" class=\"row_heading level0 row38\" >38</th>\n",
       "      <td id=\"T_3b13d_row38_col0\" class=\"data row38 col0\" >Remove Outliers</td>\n",
       "      <td id=\"T_3b13d_row38_col1\" class=\"data row38 col1\" >False</td>\n",
       "    </tr>\n",
       "    <tr>\n",
       "      <th id=\"T_3b13d_level0_row39\" class=\"row_heading level0 row39\" >39</th>\n",
       "      <td id=\"T_3b13d_row39_col0\" class=\"data row39 col0\" >Outliers Threshold</td>\n",
       "      <td id=\"T_3b13d_row39_col1\" class=\"data row39 col1\" >None</td>\n",
       "    </tr>\n",
       "    <tr>\n",
       "      <th id=\"T_3b13d_level0_row40\" class=\"row_heading level0 row40\" >40</th>\n",
       "      <td id=\"T_3b13d_row40_col0\" class=\"data row40 col0\" >Remove Multicollinearity</td>\n",
       "      <td id=\"T_3b13d_row40_col1\" class=\"data row40 col1\" >False</td>\n",
       "    </tr>\n",
       "    <tr>\n",
       "      <th id=\"T_3b13d_level0_row41\" class=\"row_heading level0 row41\" >41</th>\n",
       "      <td id=\"T_3b13d_row41_col0\" class=\"data row41 col0\" >Multicollinearity Threshold</td>\n",
       "      <td id=\"T_3b13d_row41_col1\" class=\"data row41 col1\" >None</td>\n",
       "    </tr>\n",
       "    <tr>\n",
       "      <th id=\"T_3b13d_level0_row42\" class=\"row_heading level0 row42\" >42</th>\n",
       "      <td id=\"T_3b13d_row42_col0\" class=\"data row42 col0\" >Clustering</td>\n",
       "      <td id=\"T_3b13d_row42_col1\" class=\"data row42 col1\" >False</td>\n",
       "    </tr>\n",
       "    <tr>\n",
       "      <th id=\"T_3b13d_level0_row43\" class=\"row_heading level0 row43\" >43</th>\n",
       "      <td id=\"T_3b13d_row43_col0\" class=\"data row43 col0\" >Clustering Iteration</td>\n",
       "      <td id=\"T_3b13d_row43_col1\" class=\"data row43 col1\" >None</td>\n",
       "    </tr>\n",
       "    <tr>\n",
       "      <th id=\"T_3b13d_level0_row44\" class=\"row_heading level0 row44\" >44</th>\n",
       "      <td id=\"T_3b13d_row44_col0\" class=\"data row44 col0\" >Polynomial Features</td>\n",
       "      <td id=\"T_3b13d_row44_col1\" class=\"data row44 col1\" >False</td>\n",
       "    </tr>\n",
       "    <tr>\n",
       "      <th id=\"T_3b13d_level0_row45\" class=\"row_heading level0 row45\" >45</th>\n",
       "      <td id=\"T_3b13d_row45_col0\" class=\"data row45 col0\" >Polynomial Degree</td>\n",
       "      <td id=\"T_3b13d_row45_col1\" class=\"data row45 col1\" >None</td>\n",
       "    </tr>\n",
       "    <tr>\n",
       "      <th id=\"T_3b13d_level0_row46\" class=\"row_heading level0 row46\" >46</th>\n",
       "      <td id=\"T_3b13d_row46_col0\" class=\"data row46 col0\" >Trignometry Features</td>\n",
       "      <td id=\"T_3b13d_row46_col1\" class=\"data row46 col1\" >False</td>\n",
       "    </tr>\n",
       "    <tr>\n",
       "      <th id=\"T_3b13d_level0_row47\" class=\"row_heading level0 row47\" >47</th>\n",
       "      <td id=\"T_3b13d_row47_col0\" class=\"data row47 col0\" >Polynomial Threshold</td>\n",
       "      <td id=\"T_3b13d_row47_col1\" class=\"data row47 col1\" >None</td>\n",
       "    </tr>\n",
       "    <tr>\n",
       "      <th id=\"T_3b13d_level0_row48\" class=\"row_heading level0 row48\" >48</th>\n",
       "      <td id=\"T_3b13d_row48_col0\" class=\"data row48 col0\" >Group Features</td>\n",
       "      <td id=\"T_3b13d_row48_col1\" class=\"data row48 col1\" >False</td>\n",
       "    </tr>\n",
       "    <tr>\n",
       "      <th id=\"T_3b13d_level0_row49\" class=\"row_heading level0 row49\" >49</th>\n",
       "      <td id=\"T_3b13d_row49_col0\" class=\"data row49 col0\" >Feature Selection</td>\n",
       "      <td id=\"T_3b13d_row49_col1\" class=\"data row49 col1\" >False</td>\n",
       "    </tr>\n",
       "    <tr>\n",
       "      <th id=\"T_3b13d_level0_row50\" class=\"row_heading level0 row50\" >50</th>\n",
       "      <td id=\"T_3b13d_row50_col0\" class=\"data row50 col0\" >Features Selection Threshold</td>\n",
       "      <td id=\"T_3b13d_row50_col1\" class=\"data row50 col1\" >None</td>\n",
       "    </tr>\n",
       "    <tr>\n",
       "      <th id=\"T_3b13d_level0_row51\" class=\"row_heading level0 row51\" >51</th>\n",
       "      <td id=\"T_3b13d_row51_col0\" class=\"data row51 col0\" >Feature Interaction</td>\n",
       "      <td id=\"T_3b13d_row51_col1\" class=\"data row51 col1\" >False</td>\n",
       "    </tr>\n",
       "    <tr>\n",
       "      <th id=\"T_3b13d_level0_row52\" class=\"row_heading level0 row52\" >52</th>\n",
       "      <td id=\"T_3b13d_row52_col0\" class=\"data row52 col0\" >Feature Ratio</td>\n",
       "      <td id=\"T_3b13d_row52_col1\" class=\"data row52 col1\" >False</td>\n",
       "    </tr>\n",
       "    <tr>\n",
       "      <th id=\"T_3b13d_level0_row53\" class=\"row_heading level0 row53\" >53</th>\n",
       "      <td id=\"T_3b13d_row53_col0\" class=\"data row53 col0\" >Interaction Threshold</td>\n",
       "      <td id=\"T_3b13d_row53_col1\" class=\"data row53 col1\" >None</td>\n",
       "    </tr>\n",
       "    <tr>\n",
       "      <th id=\"T_3b13d_level0_row54\" class=\"row_heading level0 row54\" >54</th>\n",
       "      <td id=\"T_3b13d_row54_col0\" class=\"data row54 col0\" >Transform Target</td>\n",
       "      <td id=\"T_3b13d_row54_col1\" class=\"data row54 col1\" >True</td>\n",
       "    </tr>\n",
       "    <tr>\n",
       "      <th id=\"T_3b13d_level0_row55\" class=\"row_heading level0 row55\" >55</th>\n",
       "      <td id=\"T_3b13d_row55_col0\" class=\"data row55 col0\" >Transform Target Method</td>\n",
       "      <td id=\"T_3b13d_row55_col1\" class=\"data row55 col1\" >box-cox</td>\n",
       "    </tr>\n",
       "  </tbody>\n",
       "</table>\n"
      ],
      "text/plain": [
       "<pandas.io.formats.style.Styler at 0x28868f62610>"
      ]
     },
     "metadata": {},
     "output_type": "display_data"
    }
   ],
   "source": [
    "s = setup(data = df1_train, test_data = df1_test, target = 'rate', fold_strategy = 'timeseries', numeric_features = ['Day', 'Series'], fold = 3, transform_target = True, session_id = 123)"
   ]
  },
  {
   "cell_type": "code",
   "execution_count": 40,
   "id": "cb8bd97d",
   "metadata": {},
   "outputs": [
    {
     "data": {
      "text/html": [
       "<style type=\"text/css\">\n",
       "#T_10223_ th {\n",
       "  text-align: left;\n",
       "}\n",
       "#T_10223_row0_col0, #T_10223_row0_col2, #T_10223_row0_col3, #T_10223_row0_col4, #T_10223_row0_col5, #T_10223_row1_col0, #T_10223_row1_col1, #T_10223_row1_col2, #T_10223_row1_col3, #T_10223_row1_col5, #T_10223_row1_col6, #T_10223_row2_col0, #T_10223_row2_col1, #T_10223_row2_col2, #T_10223_row2_col3, #T_10223_row2_col4, #T_10223_row2_col5, #T_10223_row2_col6, #T_10223_row3_col0, #T_10223_row3_col1, #T_10223_row3_col4, #T_10223_row3_col6, #T_10223_row4_col0, #T_10223_row4_col1, #T_10223_row4_col2, #T_10223_row4_col3, #T_10223_row4_col4, #T_10223_row4_col5, #T_10223_row4_col6, #T_10223_row5_col0, #T_10223_row5_col1, #T_10223_row5_col2, #T_10223_row5_col3, #T_10223_row5_col4, #T_10223_row5_col5, #T_10223_row5_col6, #T_10223_row6_col0, #T_10223_row6_col1, #T_10223_row6_col2, #T_10223_row6_col3, #T_10223_row6_col4, #T_10223_row6_col5, #T_10223_row6_col6, #T_10223_row7_col0, #T_10223_row7_col1, #T_10223_row7_col2, #T_10223_row7_col3, #T_10223_row7_col4, #T_10223_row7_col5, #T_10223_row7_col6, #T_10223_row8_col0, #T_10223_row8_col1, #T_10223_row8_col2, #T_10223_row8_col3, #T_10223_row8_col4, #T_10223_row8_col5, #T_10223_row8_col6, #T_10223_row9_col0, #T_10223_row9_col1, #T_10223_row9_col2, #T_10223_row9_col3, #T_10223_row9_col4, #T_10223_row9_col5, #T_10223_row9_col6, #T_10223_row10_col0, #T_10223_row10_col1, #T_10223_row10_col2, #T_10223_row10_col3, #T_10223_row10_col4, #T_10223_row10_col5, #T_10223_row10_col6, #T_10223_row11_col0, #T_10223_row11_col1, #T_10223_row11_col2, #T_10223_row11_col3, #T_10223_row11_col4, #T_10223_row11_col5, #T_10223_row11_col6 {\n",
       "  text-align: left;\n",
       "}\n",
       "#T_10223_row0_col1, #T_10223_row0_col6, #T_10223_row1_col4, #T_10223_row3_col2, #T_10223_row3_col3, #T_10223_row3_col5 {\n",
       "  text-align: left;\n",
       "  background-color: yellow;\n",
       "}\n",
       "#T_10223_row0_col7, #T_10223_row1_col7, #T_10223_row2_col7, #T_10223_row3_col7, #T_10223_row4_col7, #T_10223_row6_col7, #T_10223_row7_col7, #T_10223_row8_col7, #T_10223_row9_col7, #T_10223_row10_col7, #T_10223_row11_col7 {\n",
       "  text-align: left;\n",
       "  background-color: lightgrey;\n",
       "}\n",
       "#T_10223_row5_col7 {\n",
       "  text-align: left;\n",
       "  background-color: yellow;\n",
       "  background-color: lightgrey;\n",
       "}\n",
       "</style>\n",
       "<table id=\"T_10223_\">\n",
       "  <thead>\n",
       "    <tr>\n",
       "      <th class=\"blank level0\" >&nbsp;</th>\n",
       "      <th class=\"col_heading level0 col0\" >Model</th>\n",
       "      <th class=\"col_heading level0 col1\" >MAE</th>\n",
       "      <th class=\"col_heading level0 col2\" >MSE</th>\n",
       "      <th class=\"col_heading level0 col3\" >RMSE</th>\n",
       "      <th class=\"col_heading level0 col4\" >R2</th>\n",
       "      <th class=\"col_heading level0 col5\" >RMSLE</th>\n",
       "      <th class=\"col_heading level0 col6\" >MAPE</th>\n",
       "      <th class=\"col_heading level0 col7\" >TT (Sec)</th>\n",
       "    </tr>\n",
       "  </thead>\n",
       "  <tbody>\n",
       "    <tr>\n",
       "      <th id=\"T_10223_level0_row0\" class=\"row_heading level0 row0\" >xgboost</th>\n",
       "      <td id=\"T_10223_row0_col0\" class=\"data row0 col0\" >Extreme Gradient Boosting</td>\n",
       "      <td id=\"T_10223_row0_col1\" class=\"data row0 col1\" >8.6123</td>\n",
       "      <td id=\"T_10223_row0_col2\" class=\"data row0 col2\" >118.6715</td>\n",
       "      <td id=\"T_10223_row0_col3\" class=\"data row0 col3\" >9.8533</td>\n",
       "      <td id=\"T_10223_row0_col4\" class=\"data row0 col4\" >-2.8061</td>\n",
       "      <td id=\"T_10223_row0_col5\" class=\"data row0 col5\" >0.2004</td>\n",
       "      <td id=\"T_10223_row0_col6\" class=\"data row0 col6\" >0.1589</td>\n",
       "      <td id=\"T_10223_row0_col7\" class=\"data row0 col7\" >0.2567</td>\n",
       "    </tr>\n",
       "    <tr>\n",
       "      <th id=\"T_10223_level0_row1\" class=\"row_heading level0 row1\" >lightgbm</th>\n",
       "      <td id=\"T_10223_row1_col0\" class=\"data row1 col0\" >Light Gradient Boosting Machine</td>\n",
       "      <td id=\"T_10223_row1_col1\" class=\"data row1 col1\" >8.6298</td>\n",
       "      <td id=\"T_10223_row1_col2\" class=\"data row1 col2\" >118.2656</td>\n",
       "      <td id=\"T_10223_row1_col3\" class=\"data row1 col3\" >9.8434</td>\n",
       "      <td id=\"T_10223_row1_col4\" class=\"data row1 col4\" >-2.8045</td>\n",
       "      <td id=\"T_10223_row1_col5\" class=\"data row1 col5\" >0.1998</td>\n",
       "      <td id=\"T_10223_row1_col6\" class=\"data row1 col6\" >0.1592</td>\n",
       "      <td id=\"T_10223_row1_col7\" class=\"data row1 col7\" >0.0333</td>\n",
       "    </tr>\n",
       "    <tr>\n",
       "      <th id=\"T_10223_level0_row2\" class=\"row_heading level0 row2\" >catboost</th>\n",
       "      <td id=\"T_10223_row2_col0\" class=\"data row2 col0\" >CatBoost Regressor</td>\n",
       "      <td id=\"T_10223_row2_col1\" class=\"data row2 col1\" >8.6457</td>\n",
       "      <td id=\"T_10223_row2_col2\" class=\"data row2 col2\" >118.5746</td>\n",
       "      <td id=\"T_10223_row2_col3\" class=\"data row2 col3\" >9.8600</td>\n",
       "      <td id=\"T_10223_row2_col4\" class=\"data row2 col4\" >-2.8361</td>\n",
       "      <td id=\"T_10223_row2_col5\" class=\"data row2 col5\" >0.1998</td>\n",
       "      <td id=\"T_10223_row2_col6\" class=\"data row2 col6\" >0.1595</td>\n",
       "      <td id=\"T_10223_row2_col7\" class=\"data row2 col7\" >0.7700</td>\n",
       "    </tr>\n",
       "    <tr>\n",
       "      <th id=\"T_10223_level0_row3\" class=\"row_heading level0 row3\" >gbr</th>\n",
       "      <td id=\"T_10223_row3_col0\" class=\"data row3 col0\" >Gradient Boosting Regressor</td>\n",
       "      <td id=\"T_10223_row3_col1\" class=\"data row3 col1\" >8.6559</td>\n",
       "      <td id=\"T_10223_row3_col2\" class=\"data row3 col2\" >117.4471</td>\n",
       "      <td id=\"T_10223_row3_col3\" class=\"data row3 col3\" >9.8269</td>\n",
       "      <td id=\"T_10223_row3_col4\" class=\"data row3 col4\" >-2.8899</td>\n",
       "      <td id=\"T_10223_row3_col5\" class=\"data row3 col5\" >0.1971</td>\n",
       "      <td id=\"T_10223_row3_col6\" class=\"data row3 col6\" >0.1592</td>\n",
       "      <td id=\"T_10223_row3_col7\" class=\"data row3 col7\" >0.1033</td>\n",
       "    </tr>\n",
       "    <tr>\n",
       "      <th id=\"T_10223_level0_row4\" class=\"row_heading level0 row4\" >et</th>\n",
       "      <td id=\"T_10223_row4_col0\" class=\"data row4 col0\" >Extra Trees Regressor</td>\n",
       "      <td id=\"T_10223_row4_col1\" class=\"data row4 col1\" >8.7825</td>\n",
       "      <td id=\"T_10223_row4_col2\" class=\"data row4 col2\" >124.0813</td>\n",
       "      <td id=\"T_10223_row4_col3\" class=\"data row4 col3\" >10.0119</td>\n",
       "      <td id=\"T_10223_row4_col4\" class=\"data row4 col4\" >-2.9237</td>\n",
       "      <td id=\"T_10223_row4_col5\" class=\"data row4 col5\" >0.2039</td>\n",
       "      <td id=\"T_10223_row4_col6\" class=\"data row4 col6\" >0.1614</td>\n",
       "      <td id=\"T_10223_row4_col7\" class=\"data row4 col7\" >0.3433</td>\n",
       "    </tr>\n",
       "    <tr>\n",
       "      <th id=\"T_10223_level0_row5\" class=\"row_heading level0 row5\" >dt</th>\n",
       "      <td id=\"T_10223_row5_col0\" class=\"data row5 col0\" >Decision Tree Regressor</td>\n",
       "      <td id=\"T_10223_row5_col1\" class=\"data row5 col1\" >8.8500</td>\n",
       "      <td id=\"T_10223_row5_col2\" class=\"data row5 col2\" >125.9306</td>\n",
       "      <td id=\"T_10223_row5_col3\" class=\"data row5 col3\" >10.0796</td>\n",
       "      <td id=\"T_10223_row5_col4\" class=\"data row5 col4\" >-2.9881</td>\n",
       "      <td id=\"T_10223_row5_col5\" class=\"data row5 col5\" >0.2052</td>\n",
       "      <td id=\"T_10223_row5_col6\" class=\"data row5 col6\" >0.1626</td>\n",
       "      <td id=\"T_10223_row5_col7\" class=\"data row5 col7\" >0.0200</td>\n",
       "    </tr>\n",
       "    <tr>\n",
       "      <th id=\"T_10223_level0_row6\" class=\"row_heading level0 row6\" >rf</th>\n",
       "      <td id=\"T_10223_row6_col0\" class=\"data row6 col0\" >Random Forest Regressor</td>\n",
       "      <td id=\"T_10223_row6_col1\" class=\"data row6 col1\" >8.8641</td>\n",
       "      <td id=\"T_10223_row6_col2\" class=\"data row6 col2\" >125.9187</td>\n",
       "      <td id=\"T_10223_row6_col3\" class=\"data row6 col3\" >10.0829</td>\n",
       "      <td id=\"T_10223_row6_col4\" class=\"data row6 col4\" >-2.9912</td>\n",
       "      <td id=\"T_10223_row6_col5\" class=\"data row6 col5\" >0.2052</td>\n",
       "      <td id=\"T_10223_row6_col6\" class=\"data row6 col6\" >0.1628</td>\n",
       "      <td id=\"T_10223_row6_col7\" class=\"data row6 col7\" >0.3433</td>\n",
       "    </tr>\n",
       "    <tr>\n",
       "      <th id=\"T_10223_level0_row7\" class=\"row_heading level0 row7\" >knn</th>\n",
       "      <td id=\"T_10223_row7_col0\" class=\"data row7 col0\" >K Neighbors Regressor</td>\n",
       "      <td id=\"T_10223_row7_col1\" class=\"data row7 col1\" >9.0842</td>\n",
       "      <td id=\"T_10223_row7_col2\" class=\"data row7 col2\" >130.1866</td>\n",
       "      <td id=\"T_10223_row7_col3\" class=\"data row7 col3\" >10.2498</td>\n",
       "      <td id=\"T_10223_row7_col4\" class=\"data row7 col4\" >-3.1327</td>\n",
       "      <td id=\"T_10223_row7_col5\" class=\"data row7 col5\" >0.2089</td>\n",
       "      <td id=\"T_10223_row7_col6\" class=\"data row7 col6\" >0.1669</td>\n",
       "      <td id=\"T_10223_row7_col7\" class=\"data row7 col7\" >1.2200</td>\n",
       "    </tr>\n",
       "    <tr>\n",
       "      <th id=\"T_10223_level0_row8\" class=\"row_heading level0 row8\" >ada</th>\n",
       "      <td id=\"T_10223_row8_col0\" class=\"data row8 col0\" >AdaBoost Regressor</td>\n",
       "      <td id=\"T_10223_row8_col1\" class=\"data row8 col1\" >9.8182</td>\n",
       "      <td id=\"T_10223_row8_col2\" class=\"data row8 col2\" >158.7806</td>\n",
       "      <td id=\"T_10223_row8_col3\" class=\"data row8 col3\" >10.9703</td>\n",
       "      <td id=\"T_10223_row8_col4\" class=\"data row8 col4\" >-3.8418</td>\n",
       "      <td id=\"T_10223_row8_col5\" class=\"data row8 col5\" >0.2238</td>\n",
       "      <td id=\"T_10223_row8_col6\" class=\"data row8 col6\" >0.1772</td>\n",
       "      <td id=\"T_10223_row8_col7\" class=\"data row8 col7\" >0.0333</td>\n",
       "    </tr>\n",
       "    <tr>\n",
       "      <th id=\"T_10223_level0_row9\" class=\"row_heading level0 row9\" >par</th>\n",
       "      <td id=\"T_10223_row9_col0\" class=\"data row9 col0\" >Passive Aggressive Regressor</td>\n",
       "      <td id=\"T_10223_row9_col1\" class=\"data row9 col1\" >20.6155</td>\n",
       "      <td id=\"T_10223_row9_col2\" class=\"data row9 col2\" >484.3937</td>\n",
       "      <td id=\"T_10223_row9_col3\" class=\"data row9 col3\" >21.2012</td>\n",
       "      <td id=\"T_10223_row9_col4\" class=\"data row9 col4\" >-17.7566</td>\n",
       "      <td id=\"T_10223_row9_col5\" class=\"data row9 col5\" >0.5595</td>\n",
       "      <td id=\"T_10223_row9_col6\" class=\"data row9 col6\" >0.4134</td>\n",
       "      <td id=\"T_10223_row9_col7\" class=\"data row9 col7\" >1.1433</td>\n",
       "    </tr>\n",
       "    <tr>\n",
       "      <th id=\"T_10223_level0_row10\" class=\"row_heading level0 row10\" >huber</th>\n",
       "      <td id=\"T_10223_row10_col0\" class=\"data row10 col0\" >Huber Regressor</td>\n",
       "      <td id=\"T_10223_row10_col1\" class=\"data row10 col1\" >22.7901</td>\n",
       "      <td id=\"T_10223_row10_col2\" class=\"data row10 col2\" >568.8867</td>\n",
       "      <td id=\"T_10223_row10_col3\" class=\"data row10 col3\" >23.3323</td>\n",
       "      <td id=\"T_10223_row10_col4\" class=\"data row10 col4\" >-23.7536</td>\n",
       "      <td id=\"T_10223_row10_col5\" class=\"data row10 col5\" >0.6187</td>\n",
       "      <td id=\"T_10223_row10_col6\" class=\"data row10 col6\" >0.4548</td>\n",
       "      <td id=\"T_10223_row10_col7\" class=\"data row10 col7\" >0.9900</td>\n",
       "    </tr>\n",
       "    <tr>\n",
       "      <th id=\"T_10223_level0_row11\" class=\"row_heading level0 row11\" >llar</th>\n",
       "      <td id=\"T_10223_row11_col0\" class=\"data row11 col0\" >Lasso Least Angle Regression</td>\n",
       "      <td id=\"T_10223_row11_col1\" class=\"data row11 col1\" >23.3042</td>\n",
       "      <td id=\"T_10223_row11_col2\" class=\"data row11 col2\" >596.6053</td>\n",
       "      <td id=\"T_10223_row11_col3\" class=\"data row11 col3\" >23.8353</td>\n",
       "      <td id=\"T_10223_row11_col4\" class=\"data row11 col4\" >-24.7923</td>\n",
       "      <td id=\"T_10223_row11_col5\" class=\"data row11 col5\" >0.6316</td>\n",
       "      <td id=\"T_10223_row11_col6\" class=\"data row11 col6\" >0.4630</td>\n",
       "      <td id=\"T_10223_row11_col7\" class=\"data row11 col7\" >1.9867</td>\n",
       "    </tr>\n",
       "  </tbody>\n",
       "</table>\n"
      ],
      "text/plain": [
       "<pandas.io.formats.style.Styler at 0x28869a48d30>"
      ]
     },
     "metadata": {},
     "output_type": "display_data"
    }
   ],
   "source": [
    "best_pycaret = compare_models(sort = 'MAE')"
   ]
  },
  {
   "cell_type": "code",
   "execution_count": 43,
   "id": "fa6f47fc",
   "metadata": {},
   "outputs": [
    {
     "data": {
      "text/html": [
       "<style type=\"text/css\">\n",
       "</style>\n",
       "<table id=\"T_046c3_\">\n",
       "  <thead>\n",
       "    <tr>\n",
       "      <th class=\"blank level0\" >&nbsp;</th>\n",
       "      <th class=\"col_heading level0 col0\" >Model</th>\n",
       "      <th class=\"col_heading level0 col1\" >MAE</th>\n",
       "      <th class=\"col_heading level0 col2\" >MSE</th>\n",
       "      <th class=\"col_heading level0 col3\" >RMSE</th>\n",
       "      <th class=\"col_heading level0 col4\" >R2</th>\n",
       "      <th class=\"col_heading level0 col5\" >RMSLE</th>\n",
       "      <th class=\"col_heading level0 col6\" >MAPE</th>\n",
       "    </tr>\n",
       "  </thead>\n",
       "  <tbody>\n",
       "    <tr>\n",
       "      <th id=\"T_046c3_level0_row0\" class=\"row_heading level0 row0\" >0</th>\n",
       "      <td id=\"T_046c3_row0_col0\" class=\"data row0 col0\" >Extreme Gradient Boosting</td>\n",
       "      <td id=\"T_046c3_row0_col1\" class=\"data row0 col1\" >3.5277</td>\n",
       "      <td id=\"T_046c3_row0_col2\" class=\"data row0 col2\" >13.6845</td>\n",
       "      <td id=\"T_046c3_row0_col3\" class=\"data row0 col3\" >3.6993</td>\n",
       "      <td id=\"T_046c3_row0_col4\" class=\"data row0 col4\" >-11.2634</td>\n",
       "      <td id=\"T_046c3_row0_col5\" class=\"data row0 col5\" >0.3298</td>\n",
       "      <td id=\"T_046c3_row0_col6\" class=\"data row0 col6\" >0.4188</td>\n",
       "    </tr>\n",
       "  </tbody>\n",
       "</table>\n"
      ],
      "text/plain": [
       "<pandas.io.formats.style.Styler at 0x2886a0011f0>"
      ]
     },
     "metadata": {},
     "output_type": "display_data"
    }
   ],
   "source": [
    "prediction_holdout = predict_model(best_pycaret);"
   ]
  },
  {
   "cell_type": "code",
   "execution_count": 45,
   "id": "eaa9f48e",
   "metadata": {},
   "outputs": [
    {
     "data": {
      "text/html": [
       "<div>\n",
       "<style scoped>\n",
       "    .dataframe tbody tr th:only-of-type {\n",
       "        vertical-align: middle;\n",
       "    }\n",
       "\n",
       "    .dataframe tbody tr th {\n",
       "        vertical-align: top;\n",
       "    }\n",
       "\n",
       "    .dataframe thead th {\n",
       "        text-align: right;\n",
       "    }\n",
       "</style>\n",
       "<table border=\"1\" class=\"dataframe\">\n",
       "  <thead>\n",
       "    <tr style=\"text-align: right;\">\n",
       "      <th></th>\n",
       "      <th>rate</th>\n",
       "      <th>Year</th>\n",
       "      <th>Month</th>\n",
       "      <th>Day</th>\n",
       "      <th>Series</th>\n",
       "      <th>Label</th>\n",
       "    </tr>\n",
       "  </thead>\n",
       "  <tbody>\n",
       "    <tr>\n",
       "      <th>0</th>\n",
       "      <td>8.020000</td>\n",
       "      <td>1973</td>\n",
       "      <td>1</td>\n",
       "      <td>2</td>\n",
       "      <td>1</td>\n",
       "      <td>12.432172</td>\n",
       "    </tr>\n",
       "    <tr>\n",
       "      <th>1</th>\n",
       "      <td>8.020000</td>\n",
       "      <td>1973</td>\n",
       "      <td>1</td>\n",
       "      <td>3</td>\n",
       "      <td>2</td>\n",
       "      <td>12.431400</td>\n",
       "    </tr>\n",
       "    <tr>\n",
       "      <th>2</th>\n",
       "      <td>8.000000</td>\n",
       "      <td>1973</td>\n",
       "      <td>1</td>\n",
       "      <td>4</td>\n",
       "      <td>3</td>\n",
       "      <td>12.460596</td>\n",
       "    </tr>\n",
       "    <tr>\n",
       "      <th>3</th>\n",
       "      <td>8.010000</td>\n",
       "      <td>1973</td>\n",
       "      <td>1</td>\n",
       "      <td>5</td>\n",
       "      <td>4</td>\n",
       "      <td>12.466521</td>\n",
       "    </tr>\n",
       "    <tr>\n",
       "      <th>4</th>\n",
       "      <td>8.000000</td>\n",
       "      <td>1973</td>\n",
       "      <td>1</td>\n",
       "      <td>8</td>\n",
       "      <td>5</td>\n",
       "      <td>12.529803</td>\n",
       "    </tr>\n",
       "    <tr>\n",
       "      <th>...</th>\n",
       "      <td>...</td>\n",
       "      <td>...</td>\n",
       "      <td>...</td>\n",
       "      <td>...</td>\n",
       "      <td>...</td>\n",
       "      <td>...</td>\n",
       "    </tr>\n",
       "    <tr>\n",
       "      <th>12644</th>\n",
       "      <td>74.180000</td>\n",
       "      <td>2021</td>\n",
       "      <td>6</td>\n",
       "      <td>21</td>\n",
       "      <td>12645</td>\n",
       "      <td>74.131828</td>\n",
       "    </tr>\n",
       "    <tr>\n",
       "      <th>12645</th>\n",
       "      <td>74.370003</td>\n",
       "      <td>2021</td>\n",
       "      <td>6</td>\n",
       "      <td>22</td>\n",
       "      <td>12646</td>\n",
       "      <td>74.131828</td>\n",
       "    </tr>\n",
       "    <tr>\n",
       "      <th>12646</th>\n",
       "      <td>74.129997</td>\n",
       "      <td>2021</td>\n",
       "      <td>6</td>\n",
       "      <td>23</td>\n",
       "      <td>12647</td>\n",
       "      <td>74.068542</td>\n",
       "    </tr>\n",
       "    <tr>\n",
       "      <th>12647</th>\n",
       "      <td>74.139999</td>\n",
       "      <td>2021</td>\n",
       "      <td>6</td>\n",
       "      <td>24</td>\n",
       "      <td>12648</td>\n",
       "      <td>74.072052</td>\n",
       "    </tr>\n",
       "    <tr>\n",
       "      <th>12648</th>\n",
       "      <td>74.139999</td>\n",
       "      <td>2021</td>\n",
       "      <td>6</td>\n",
       "      <td>25</td>\n",
       "      <td>12649</td>\n",
       "      <td>74.083763</td>\n",
       "    </tr>\n",
       "  </tbody>\n",
       "</table>\n",
       "<p>12649 rows × 6 columns</p>\n",
       "</div>"
      ],
      "text/plain": [
       "            rate  Year  Month  Day  Series      Label\n",
       "0       8.020000  1973      1    2       1  12.432172\n",
       "1       8.020000  1973      1    3       2  12.431400\n",
       "2       8.000000  1973      1    4       3  12.460596\n",
       "3       8.010000  1973      1    5       4  12.466521\n",
       "4       8.000000  1973      1    8       5  12.529803\n",
       "...          ...   ...    ...  ...     ...        ...\n",
       "12644  74.180000  2021      6   21   12645  74.131828\n",
       "12645  74.370003  2021      6   22   12646  74.131828\n",
       "12646  74.129997  2021      6   23   12647  74.068542\n",
       "12647  74.139999  2021      6   24   12648  74.072052\n",
       "12648  74.139999  2021      6   25   12649  74.083763\n",
       "\n",
       "[12649 rows x 6 columns]"
      ]
     },
     "execution_count": 45,
     "metadata": {},
     "output_type": "execute_result"
    }
   ],
   "source": [
    "predictions = predict_model(best_pycaret, data=df1)\n",
    "predictions"
   ]
  },
  {
   "cell_type": "code",
   "execution_count": null,
   "id": "7dc0a5ef",
   "metadata": {},
   "outputs": [],
   "source": []
  }
 ],
 "metadata": {
  "hide_input": false,
  "kernelspec": {
   "display_name": "Python 3",
   "language": "python",
   "name": "python3"
  },
  "language_info": {
   "codemirror_mode": {
    "name": "ipython",
    "version": 3
   },
   "file_extension": ".py",
   "mimetype": "text/x-python",
   "name": "python",
   "nbconvert_exporter": "python",
   "pygments_lexer": "ipython3",
   "version": "3.8.11"
  },
  "toc": {
   "base_numbering": 1,
   "nav_menu": {},
   "number_sections": true,
   "sideBar": true,
   "skip_h1_title": true,
   "title_cell": "Table of Contents",
   "title_sidebar": "Contents",
   "toc_cell": false,
   "toc_position": {
    "height": "calc(100% - 180px)",
    "left": "10px",
    "top": "150px",
    "width": "371.2px"
   },
   "toc_section_display": true,
   "toc_window_display": true
  }
 },
 "nbformat": 4,
 "nbformat_minor": 5
}
